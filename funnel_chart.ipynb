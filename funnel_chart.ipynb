{
 "cells": [
  {
   "cell_type": "code",
   "execution_count": 1,
   "id": "22c8b563-9884-4a64-baee-03bdcef4540c",
   "metadata": {},
   "outputs": [],
   "source": [
    "from IPython.display import HTML\n",
    "import pandas as pd\n",
    "import altair as alt"
   ]
  },
  {
   "cell_type": "code",
   "execution_count": 2,
   "id": "eda380c7-c49d-4da7-a70c-c6e1785f2811",
   "metadata": {},
   "outputs": [],
   "source": [
    "data_pdf = pd.DataFrame({\n",
    "    'progression_level' : [1, 2, 3, 4, 5, 6, 7],\n",
    "    'progression_label': ['AU', 'GAU', '≥2 Play Seqs.', '≥ Pro 2 Division', '≥1 Demoted', '≥1 Add. Promo Supp.', ''],\n",
    "    'user_count': [2258930, 1110052, 530386, 388562, 156791, 15413, 15413],\n",
    "    'user_count_pct': ['100%', '49.1%', '23.5%', '17.2%', '6.94%', '0.68%', ''],\n",
    "    'user_count_aps_pct': ['0.68%', '1.38%', '2.91%', '3.97%', '9.83%', '100%', ''],\n",
    "})\n"
   ]
  },
  {
   "cell_type": "code",
   "execution_count": 3,
   "id": "1ec83622-7bce-480c-9ffb-99936239e886",
   "metadata": {},
   "outputs": [],
   "source": [
    "progression_level_picker = alt.selection_point(fields=['progression_level'], on='mouseover', empty=True)\n",
    "progression_level_picker_for_aps_pct = alt.selection_point(fields=['progression_level'], on='mouseover', empty=False)"
   ]
  },
  {
   "cell_type": "code",
   "execution_count": 4,
   "id": "05b2370e-3ba5-48cc-9885-95866c26dfb5",
   "metadata": {},
   "outputs": [],
   "source": [
    "base = alt.Chart(data_pdf)"
   ]
  },
  {
   "cell_type": "code",
   "execution_count": 5,
   "id": "43131d38-fddf-4ff3-823b-6e1f12572046",
   "metadata": {},
   "outputs": [],
   "source": [
    "area_ap = (\n",
    "    base\n",
    "        .transform_calculate(\n",
    "            user_count_y = 'datum.user_count/2',\n",
    "            user_count_y2 = '-datum.user_count/2'\n",
    "        )\n",
    "        .encode(\n",
    "            x=alt.X('progression_level:O')\n",
    "                .axis(\n",
    "                    grid=True,\n",
    "                    ticks=False,\n",
    "                    domain=False,\n",
    "                    labels=False,\n",
    "                    title=None,\n",
    "                    zindex=1\n",
    "                ),\n",
    "            y=alt.Y('user_count_y:Q')\n",
    "                .axis(None),\n",
    "            y2=alt.Y2('user_count_y2:Q'),\n",
    "            color=alt.value('#FF6A14'),\n",
    "        )\n",
    "        .mark_area(interpolate='monotone')\n",
    ")"
   ]
  },
  {
   "cell_type": "code",
   "execution_count": 6,
   "id": "335f0a32-e194-49af-960e-974e382c15c6",
   "metadata": {},
   "outputs": [],
   "source": [
    "user_count_text_ap = (\n",
    "    alt.Chart(data_pdf[:-1])\n",
    "        .transform_calculate(\n",
    "            user_count_y = 'datum.user_count/2'\n",
    "        )\n",
    "        .transform_joinaggregate(\n",
    "            text_y_raw='max(user_count_y)'\n",
    "        )\n",
    "        .transform_calculate(\n",
    "            text_y='datum.text_y_raw * 1.8'\n",
    "        )\n",
    "        .encode(\n",
    "            y=alt.Y('text_y:Q'),\n",
    "            x=alt.X('progression_level:O'),\n",
    "            text=alt.Text('user_count:Q')\n",
    "                .format(','),\n",
    "            color=alt.value('black')\n",
    "        )\n",
    "        .mark_text(\n",
    "            align='left',\n",
    "            baseline='top',\n",
    "            dx=10,\n",
    "            dy=-25,\n",
    "            fontSize=14,\n",
    "            fontWeight=500            \n",
    "        )\n",
    ")"
   ]
  },
  {
   "cell_type": "code",
   "execution_count": 7,
   "id": "e51c4580-9259-4357-89f2-6c58807195f9",
   "metadata": {},
   "outputs": [],
   "source": [
    "progression_label_text_ap = (\n",
    "    user_count_text_ap\n",
    "        .encode(\n",
    "            y=alt.Y('text_y:Q'),\n",
    "            text=alt.Text('progression_label:N'),\n",
    "            color=alt.value('black')\n",
    "        )\n",
    "        .mark_text(\n",
    "            align='left',\n",
    "            baseline='top',\n",
    "            dx=10,\n",
    "            dy=-5\n",
    "            #dy=-10,\n",
    "            #fontSize=12,\n",
    "            #fontWeight=700\n",
    "        )\n",
    ")"
   ]
  },
  {
   "cell_type": "code",
   "execution_count": 8,
   "id": "5bdfe788-a648-4a81-8ad8-5646437758fe",
   "metadata": {},
   "outputs": [],
   "source": [
    "user_count_pct_text_ap = (\n",
    "    user_count_text_ap\n",
    "        .encode(\n",
    "            y=alt.Y('text_y:Q'),\n",
    "            text=alt.Text('user_count_pct:N'),\n",
    "            color=alt.value('black')\n",
    "        )\n",
    "        .mark_text(\n",
    "            align='left',\n",
    "            baseline='top',\n",
    "            dx=10,\n",
    "            dy=10\n",
    "        )\n",
    ")"
   ]
  },
  {
   "cell_type": "code",
   "execution_count": 9,
   "id": "99b1dc5e-5893-4e0f-bfcb-a7516d3e0f77",
   "metadata": {},
   "outputs": [],
   "source": [
    "progression_cover_bar_ap = (\n",
    "    user_count_text_ap\n",
    "        .transform_calculate(\n",
    "            cover_bar_y='datum.text_y_raw*2.2',\n",
    "            cover_bar_y2='-datum.text_y_raw*1.2'\n",
    "        )\n",
    "        .encode(\n",
    "            y=alt.Y('cover_bar_y:Q'),\n",
    "            y2=alt.Y2('cover_bar_y2:Q'),\n",
    "            color=alt.value('white'),\n",
    "            opacity=alt.condition(progression_level_picker, alt.value(0), alt.value(0.8))\n",
    "        )\n",
    "        .mark_bar(opacity=0.5, xOffset=57)\n",
    "        .add_params(progression_level_picker)\n",
    "        .add_params(progression_level_picker_for_aps_pct)\n",
    ")"
   ]
  },
  {
   "cell_type": "code",
   "execution_count": 10,
   "id": "ec9bebff-ea89-487f-b7c0-86088ac2250b",
   "metadata": {},
   "outputs": [],
   "source": [
    "user_count_aps_pct_text_ap = (\n",
    "    user_count_text_ap\n",
    "        .transform_calculate(\n",
    "            aps_pct_x='6',\n",
    "            aps_pct_y='0',\n",
    "            user_count_aps_pct_formatted=\"datum.user_count_aps_pct+' of'\"\n",
    "        )\n",
    "        .encode(\n",
    "            x=alt.X('aps_pct_x:O'),\n",
    "            y=alt.Y('aps_pct_y:Q'),\n",
    "            text=alt.Text('user_count_aps_pct_formatted:N'),\n",
    "            opacity=alt.condition(progression_level_picker_for_aps_pct, alt.value(0.8), alt.value(0))\n",
    "        )\n",
    "        .mark_text(yOffset=-30, xOffset=57)\n",
    ")\n",
    "\n",
    "\n",
    "user_count_aps_pct_support_text_ap = (\n",
    "    user_count_aps_pct_text_ap\n",
    "        .encode(\n",
    "            text=alt.Text('progression_label:N'),\n",
    "        )\n",
    "        .mark_text(yOffset=-15, xOffset=57)\n",
    ")\n",
    "\n",
    "user_count_aps_pct_arrow_text_ap = (\n",
    "    user_count_aps_pct_text_ap\n",
    "        .transform_calculate(\n",
    "            arrow=\"'↓'\"\n",
    "        )\n",
    "        .encode(\n",
    "            text=alt.Text('arrow:N'),\n",
    "        )\n",
    "        .mark_text(yOffset=-3, xOffset=57)    \n",
    ")\n",
    "\n",
    "aps_area_ap = (\n",
    "    alt.Chart(data_pdf[-2:])\n",
    "        .transform_calculate(\n",
    "            user_count_y = 'datum.user_count/2*0.8',\n",
    "            user_count_y2 = '-datum.user_count/2*0.8'\n",
    "        )\n",
    "        .encode(\n",
    "            x=alt.X('progression_level:O'),\n",
    "            y=alt.Y('user_count_y:Q'),\n",
    "            y2=alt.Y2('user_count_y2:Q'),\n",
    "            color=alt.value('#E80005'),\n",
    "        )\n",
    "        .mark_area(interpolate='monotone')\n",
    ")\n"
   ]
  },
  {
   "cell_type": "code",
   "execution_count": 11,
   "id": "e6ba011a-6f1c-4a6b-b49e-726e37521b2a",
   "metadata": {},
   "outputs": [],
   "source": [
    "main_funnel_ap = (\n",
    "    alt.layer(\n",
    "        area_ap,\n",
    "        progression_label_text_ap,\n",
    "        user_count_text_ap,\n",
    "        user_count_pct_text_ap\n",
    "    )\n",
    ")"
   ]
  },
  {
   "cell_type": "code",
   "execution_count": 12,
   "id": "bf7ba5b8-254c-407d-97d8-bc38f9d698cb",
   "metadata": {},
   "outputs": [
    {
     "data": {
      "text/html": [
       "<h4>Targeted Users</h4>"
      ],
      "text/plain": [
       "<IPython.core.display.HTML object>"
      ]
     },
     "execution_count": 12,
     "metadata": {},
     "output_type": "execute_result"
    }
   ],
   "source": [
    "HTML(\"<h4>Targeted Users</h4>\")"
   ]
  },
  {
   "cell_type": "code",
   "execution_count": 13,
   "id": "848057a6-6f9f-4e59-b632-eb1ae7b0d554",
   "metadata": {},
   "outputs": [
    {
     "data": {
      "text/html": [
       "<p>Lorem ipsum dolor sit amet, consectetur adipiscing elit, sed do eiusmod tempor incididunt ut labore et dolore magna aliqua.<br> Ut enim ad minim veniam, quis nostrud exercitation ullamco laboris nisi ut aliquip ex ea commodo consequat. </p>"
      ],
      "text/plain": [
       "<IPython.core.display.HTML object>"
      ]
     },
     "execution_count": 13,
     "metadata": {},
     "output_type": "execute_result"
    }
   ],
   "source": [
    "HTML(\"<p>Lorem ipsum dolor sit amet, consectetur adipiscing elit, sed do eiusmod tempor incididunt ut labore et dolore magna aliqua.<br> Ut enim ad minim veniam, quis nostrud exercitation ullamco laboris nisi ut aliquip ex ea commodo consequat. </p>\")"
   ]
  },
  {
   "cell_type": "code",
   "execution_count": 14,
   "id": "529093c8-3d28-4b40-a050-ab569e645709",
   "metadata": {},
   "outputs": [
    {
     "data": {
      "text/html": [
       "<br>"
      ],
      "text/plain": [
       "<IPython.core.display.HTML object>"
      ]
     },
     "execution_count": 14,
     "metadata": {},
     "output_type": "execute_result"
    }
   ],
   "source": [
    "HTML(\"<br>\")"
   ]
  },
  {
   "cell_type": "code",
   "execution_count": 15,
   "id": "6a349142-6655-4887-8c68-f5e6a00f3a51",
   "metadata": {},
   "outputs": [
    {
     "data": {
      "text/html": [
       "\n",
       "<style>\n",
       "  #altair-viz-f6b9995cbc7144fda37d1b143d1df770.vega-embed {\n",
       "    width: 100%;\n",
       "    display: flex;\n",
       "  }\n",
       "\n",
       "  #altair-viz-f6b9995cbc7144fda37d1b143d1df770.vega-embed details,\n",
       "  #altair-viz-f6b9995cbc7144fda37d1b143d1df770.vega-embed details summary {\n",
       "    position: relative;\n",
       "  }\n",
       "</style>\n",
       "<div id=\"altair-viz-f6b9995cbc7144fda37d1b143d1df770\"></div>\n",
       "<script type=\"text/javascript\">\n",
       "  var VEGA_DEBUG = (typeof VEGA_DEBUG == \"undefined\") ? {} : VEGA_DEBUG;\n",
       "  (function(spec, embedOpt){\n",
       "    let outputDiv = document.currentScript.previousElementSibling;\n",
       "    if (outputDiv.id !== \"altair-viz-f6b9995cbc7144fda37d1b143d1df770\") {\n",
       "      outputDiv = document.getElementById(\"altair-viz-f6b9995cbc7144fda37d1b143d1df770\");\n",
       "    }\n",
       "    const paths = {\n",
       "      \"vega\": \"https://cdn.jsdelivr.net/npm/vega@5?noext\",\n",
       "      \"vega-lib\": \"https://cdn.jsdelivr.net/npm/vega-lib?noext\",\n",
       "      \"vega-lite\": \"https://cdn.jsdelivr.net/npm/vega-lite@5.20.1?noext\",\n",
       "      \"vega-embed\": \"https://cdn.jsdelivr.net/npm/vega-embed@6?noext\",\n",
       "    };\n",
       "\n",
       "    function maybeLoadScript(lib, version) {\n",
       "      var key = `${lib.replace(\"-\", \"\")}_version`;\n",
       "      return (VEGA_DEBUG[key] == version) ?\n",
       "        Promise.resolve(paths[lib]) :\n",
       "        new Promise(function(resolve, reject) {\n",
       "          var s = document.createElement('script');\n",
       "          document.getElementsByTagName(\"head\")[0].appendChild(s);\n",
       "          s.async = true;\n",
       "          s.onload = () => {\n",
       "            VEGA_DEBUG[key] = version;\n",
       "            return resolve(paths[lib]);\n",
       "          };\n",
       "          s.onerror = () => reject(`Error loading script: ${paths[lib]}`);\n",
       "          s.src = paths[lib];\n",
       "        });\n",
       "    }\n",
       "\n",
       "    function showError(err) {\n",
       "      outputDiv.innerHTML = `<div class=\"error\" style=\"color:red;\">${err}</div>`;\n",
       "      throw err;\n",
       "    }\n",
       "\n",
       "    function displayChart(vegaEmbed) {\n",
       "      vegaEmbed(outputDiv, spec, embedOpt)\n",
       "        .catch(err => showError(`Javascript Error: ${err.message}<br>This usually means there's a typo in your chart specification. See the javascript console for the full traceback.`));\n",
       "    }\n",
       "\n",
       "    if(typeof define === \"function\" && define.amd) {\n",
       "      requirejs.config({paths});\n",
       "      require([\"vega-embed\"], displayChart, err => showError(`Error loading script: ${err.message}`));\n",
       "    } else {\n",
       "      maybeLoadScript(\"vega\", \"5\")\n",
       "        .then(() => maybeLoadScript(\"vega-lite\", \"5.20.1\"))\n",
       "        .then(() => maybeLoadScript(\"vega-embed\", \"6\"))\n",
       "        .catch(showError)\n",
       "        .then(() => displayChart(vegaEmbed));\n",
       "    }\n",
       "  })({\"config\": {\"view\": {\"continuousWidth\": 300, \"continuousHeight\": 300, \"stroke\": null}}, \"layer\": [{\"layer\": [{\"data\": {\"name\": \"data-8861e4f998332b135a5a8765c69ef557\"}, \"mark\": {\"type\": \"area\", \"interpolate\": \"monotone\"}, \"encoding\": {\"color\": {\"value\": \"#FF6A14\"}, \"x\": {\"axis\": {\"grid\": true, \"ticks\": false, \"domain\": false, \"labels\": false, \"title\": null, \"zindex\": 1}, \"field\": \"progression_level\", \"type\": \"ordinal\"}, \"y\": {\"axis\": null, \"field\": \"user_count_y\", \"type\": \"quantitative\"}, \"y2\": {\"field\": \"user_count_y2\"}}, \"transform\": [{\"calculate\": \"datum.user_count/2\", \"as\": \"user_count_y\"}, {\"calculate\": \"-datum.user_count/2\", \"as\": \"user_count_y2\"}]}, {\"data\": {\"name\": \"data-78f11c6d3a14d8a44b51efd1d3fd34df\"}, \"mark\": {\"type\": \"text\", \"align\": \"left\", \"baseline\": \"top\", \"dx\": 10, \"dy\": -5}, \"encoding\": {\"color\": {\"value\": \"black\"}, \"text\": {\"field\": \"progression_label\", \"type\": \"nominal\"}, \"x\": {\"field\": \"progression_level\", \"type\": \"ordinal\"}, \"y\": {\"field\": \"text_y\", \"type\": \"quantitative\"}}, \"transform\": [{\"calculate\": \"datum.user_count/2\", \"as\": \"user_count_y\"}, {\"joinaggregate\": [{\"op\": \"max\", \"field\": \"user_count_y\", \"as\": \"text_y_raw\"}]}, {\"calculate\": \"datum.text_y_raw * 1.8\", \"as\": \"text_y\"}]}, {\"data\": {\"name\": \"data-78f11c6d3a14d8a44b51efd1d3fd34df\"}, \"mark\": {\"type\": \"text\", \"align\": \"left\", \"baseline\": \"top\", \"dx\": 10, \"dy\": -25, \"fontSize\": 14, \"fontWeight\": 500}, \"encoding\": {\"color\": {\"value\": \"black\"}, \"text\": {\"field\": \"user_count\", \"format\": \",\", \"type\": \"quantitative\"}, \"x\": {\"field\": \"progression_level\", \"type\": \"ordinal\"}, \"y\": {\"field\": \"text_y\", \"type\": \"quantitative\"}}, \"transform\": [{\"calculate\": \"datum.user_count/2\", \"as\": \"user_count_y\"}, {\"joinaggregate\": [{\"op\": \"max\", \"field\": \"user_count_y\", \"as\": \"text_y_raw\"}]}, {\"calculate\": \"datum.text_y_raw * 1.8\", \"as\": \"text_y\"}]}, {\"data\": {\"name\": \"data-78f11c6d3a14d8a44b51efd1d3fd34df\"}, \"mark\": {\"type\": \"text\", \"align\": \"left\", \"baseline\": \"top\", \"dx\": 10, \"dy\": 10}, \"encoding\": {\"color\": {\"value\": \"black\"}, \"text\": {\"field\": \"user_count_pct\", \"type\": \"nominal\"}, \"x\": {\"field\": \"progression_level\", \"type\": \"ordinal\"}, \"y\": {\"field\": \"text_y\", \"type\": \"quantitative\"}}, \"transform\": [{\"calculate\": \"datum.user_count/2\", \"as\": \"user_count_y\"}, {\"joinaggregate\": [{\"op\": \"max\", \"field\": \"user_count_y\", \"as\": \"text_y_raw\"}]}, {\"calculate\": \"datum.text_y_raw * 1.8\", \"as\": \"text_y\"}]}]}, {\"data\": {\"name\": \"data-78f11c6d3a14d8a44b51efd1d3fd34df\"}, \"mark\": {\"type\": \"bar\", \"opacity\": 0.5, \"xOffset\": 57}, \"encoding\": {\"color\": {\"value\": \"white\"}, \"opacity\": {\"condition\": {\"param\": \"param_1\", \"value\": 0, \"empty\": true}, \"value\": 0.8}, \"text\": {\"field\": \"user_count\", \"format\": \",\", \"type\": \"quantitative\"}, \"x\": {\"field\": \"progression_level\", \"type\": \"ordinal\"}, \"y\": {\"field\": \"cover_bar_y\", \"type\": \"quantitative\"}, \"y2\": {\"field\": \"cover_bar_y2\"}}, \"name\": \"view_1\", \"transform\": [{\"calculate\": \"datum.user_count/2\", \"as\": \"user_count_y\"}, {\"joinaggregate\": [{\"op\": \"max\", \"field\": \"user_count_y\", \"as\": \"text_y_raw\"}]}, {\"calculate\": \"datum.text_y_raw * 1.8\", \"as\": \"text_y\"}, {\"calculate\": \"datum.text_y_raw*2.2\", \"as\": \"cover_bar_y\"}, {\"calculate\": \"-datum.text_y_raw*1.2\", \"as\": \"cover_bar_y2\"}]}, {\"data\": {\"name\": \"data-78f11c6d3a14d8a44b51efd1d3fd34df\"}, \"mark\": {\"type\": \"text\", \"xOffset\": 57, \"yOffset\": -30}, \"encoding\": {\"color\": {\"value\": \"black\"}, \"opacity\": {\"condition\": {\"param\": \"param_2\", \"value\": 0.8, \"empty\": false}, \"value\": 0}, \"text\": {\"field\": \"user_count_aps_pct_formatted\", \"type\": \"nominal\"}, \"x\": {\"field\": \"aps_pct_x\", \"type\": \"ordinal\"}, \"y\": {\"field\": \"aps_pct_y\", \"type\": \"quantitative\"}}, \"transform\": [{\"calculate\": \"datum.user_count/2\", \"as\": \"user_count_y\"}, {\"joinaggregate\": [{\"op\": \"max\", \"field\": \"user_count_y\", \"as\": \"text_y_raw\"}]}, {\"calculate\": \"datum.text_y_raw * 1.8\", \"as\": \"text_y\"}, {\"calculate\": \"6\", \"as\": \"aps_pct_x\"}, {\"calculate\": \"0\", \"as\": \"aps_pct_y\"}, {\"calculate\": \"datum.user_count_aps_pct+' of'\", \"as\": \"user_count_aps_pct_formatted\"}]}, {\"data\": {\"name\": \"data-78f11c6d3a14d8a44b51efd1d3fd34df\"}, \"mark\": {\"type\": \"text\", \"xOffset\": 57, \"yOffset\": -15}, \"encoding\": {\"color\": {\"value\": \"black\"}, \"opacity\": {\"condition\": {\"param\": \"param_2\", \"value\": 0.8, \"empty\": false}, \"value\": 0}, \"text\": {\"field\": \"progression_label\", \"type\": \"nominal\"}, \"x\": {\"field\": \"aps_pct_x\", \"type\": \"ordinal\"}, \"y\": {\"field\": \"aps_pct_y\", \"type\": \"quantitative\"}}, \"transform\": [{\"calculate\": \"datum.user_count/2\", \"as\": \"user_count_y\"}, {\"joinaggregate\": [{\"op\": \"max\", \"field\": \"user_count_y\", \"as\": \"text_y_raw\"}]}, {\"calculate\": \"datum.text_y_raw * 1.8\", \"as\": \"text_y\"}, {\"calculate\": \"6\", \"as\": \"aps_pct_x\"}, {\"calculate\": \"0\", \"as\": \"aps_pct_y\"}, {\"calculate\": \"datum.user_count_aps_pct+' of'\", \"as\": \"user_count_aps_pct_formatted\"}]}, {\"data\": {\"name\": \"data-78f11c6d3a14d8a44b51efd1d3fd34df\"}, \"mark\": {\"type\": \"text\", \"xOffset\": 57, \"yOffset\": -3}, \"encoding\": {\"color\": {\"value\": \"black\"}, \"opacity\": {\"condition\": {\"param\": \"param_2\", \"value\": 0.8, \"empty\": false}, \"value\": 0}, \"text\": {\"field\": \"arrow\", \"type\": \"nominal\"}, \"x\": {\"field\": \"aps_pct_x\", \"type\": \"ordinal\"}, \"y\": {\"field\": \"aps_pct_y\", \"type\": \"quantitative\"}}, \"transform\": [{\"calculate\": \"datum.user_count/2\", \"as\": \"user_count_y\"}, {\"joinaggregate\": [{\"op\": \"max\", \"field\": \"user_count_y\", \"as\": \"text_y_raw\"}]}, {\"calculate\": \"datum.text_y_raw * 1.8\", \"as\": \"text_y\"}, {\"calculate\": \"6\", \"as\": \"aps_pct_x\"}, {\"calculate\": \"0\", \"as\": \"aps_pct_y\"}, {\"calculate\": \"datum.user_count_aps_pct+' of'\", \"as\": \"user_count_aps_pct_formatted\"}, {\"calculate\": \"'\\u2193'\", \"as\": \"arrow\"}]}, {\"data\": {\"name\": \"data-8891c50bc9180fc71fa27a3f5c9b0eaa\"}, \"mark\": {\"type\": \"area\", \"interpolate\": \"monotone\"}, \"encoding\": {\"color\": {\"value\": \"#E80005\"}, \"x\": {\"field\": \"progression_level\", \"type\": \"ordinal\"}, \"y\": {\"field\": \"user_count_y\", \"type\": \"quantitative\"}, \"y2\": {\"field\": \"user_count_y2\"}}, \"transform\": [{\"calculate\": \"datum.user_count/2*0.8\", \"as\": \"user_count_y\"}, {\"calculate\": \"-datum.user_count/2*0.8\", \"as\": \"user_count_y2\"}]}], \"height\": 250, \"params\": [{\"name\": \"param_1\", \"select\": {\"type\": \"point\", \"fields\": [\"progression_level\"], \"on\": \"mouseover\"}, \"views\": [\"view_1\"]}, {\"name\": \"param_2\", \"select\": {\"type\": \"point\", \"fields\": [\"progression_level\"], \"on\": \"mouseover\"}, \"views\": [\"view_1\"]}], \"width\": 800, \"$schema\": \"https://vega.github.io/schema/vega-lite/v5.20.1.json\", \"datasets\": {\"data-8861e4f998332b135a5a8765c69ef557\": [{\"progression_level\": 1, \"progression_label\": \"AU\", \"user_count\": 2258930, \"user_count_pct\": \"100%\", \"user_count_aps_pct\": \"0.68%\"}, {\"progression_level\": 2, \"progression_label\": \"GAU\", \"user_count\": 1110052, \"user_count_pct\": \"49.1%\", \"user_count_aps_pct\": \"1.38%\"}, {\"progression_level\": 3, \"progression_label\": \"\\u22652 Play Seqs.\", \"user_count\": 530386, \"user_count_pct\": \"23.5%\", \"user_count_aps_pct\": \"2.91%\"}, {\"progression_level\": 4, \"progression_label\": \"\\u2265 Pro 2 Division\", \"user_count\": 388562, \"user_count_pct\": \"17.2%\", \"user_count_aps_pct\": \"3.97%\"}, {\"progression_level\": 5, \"progression_label\": \"\\u22651 Demoted\", \"user_count\": 156791, \"user_count_pct\": \"6.94%\", \"user_count_aps_pct\": \"9.83%\"}, {\"progression_level\": 6, \"progression_label\": \"\\u22651 Add. Promo Supp.\", \"user_count\": 15413, \"user_count_pct\": \"0.68%\", \"user_count_aps_pct\": \"100%\"}, {\"progression_level\": 7, \"progression_label\": \"\", \"user_count\": 15413, \"user_count_pct\": \"\", \"user_count_aps_pct\": \"\"}], \"data-78f11c6d3a14d8a44b51efd1d3fd34df\": [{\"progression_level\": 1, \"progression_label\": \"AU\", \"user_count\": 2258930, \"user_count_pct\": \"100%\", \"user_count_aps_pct\": \"0.68%\"}, {\"progression_level\": 2, \"progression_label\": \"GAU\", \"user_count\": 1110052, \"user_count_pct\": \"49.1%\", \"user_count_aps_pct\": \"1.38%\"}, {\"progression_level\": 3, \"progression_label\": \"\\u22652 Play Seqs.\", \"user_count\": 530386, \"user_count_pct\": \"23.5%\", \"user_count_aps_pct\": \"2.91%\"}, {\"progression_level\": 4, \"progression_label\": \"\\u2265 Pro 2 Division\", \"user_count\": 388562, \"user_count_pct\": \"17.2%\", \"user_count_aps_pct\": \"3.97%\"}, {\"progression_level\": 5, \"progression_label\": \"\\u22651 Demoted\", \"user_count\": 156791, \"user_count_pct\": \"6.94%\", \"user_count_aps_pct\": \"9.83%\"}, {\"progression_level\": 6, \"progression_label\": \"\\u22651 Add. Promo Supp.\", \"user_count\": 15413, \"user_count_pct\": \"0.68%\", \"user_count_aps_pct\": \"100%\"}], \"data-8891c50bc9180fc71fa27a3f5c9b0eaa\": [{\"progression_level\": 6, \"progression_label\": \"\\u22651 Add. Promo Supp.\", \"user_count\": 15413, \"user_count_pct\": \"0.68%\", \"user_count_aps_pct\": \"100%\"}, {\"progression_level\": 7, \"progression_label\": \"\", \"user_count\": 15413, \"user_count_pct\": \"\", \"user_count_aps_pct\": \"\"}]}}, {\"mode\": \"vega-lite\"});\n",
       "</script>"
      ],
      "text/plain": [
       "alt.LayerChart(...)"
      ]
     },
     "execution_count": 15,
     "metadata": {},
     "output_type": "execute_result"
    }
   ],
   "source": [
    "final_ap = (\n",
    "    alt.layer(\n",
    "        main_funnel_ap,\n",
    "        progression_cover_bar_ap,\n",
    "        user_count_aps_pct_text_ap,\n",
    "        user_count_aps_pct_support_text_ap,\n",
    "        user_count_aps_pct_arrow_text_ap,\n",
    "        aps_area_ap\n",
    "    )\n",
    "    .properties(\n",
    "        width=800,\n",
    "        height=250\n",
    "    )\n",
    "    .configure_view(\n",
    "        stroke = None\n",
    "    )\n",
    "\n",
    ")\n",
    "final_ap"
   ]
  },
  {
   "cell_type": "code",
   "execution_count": null,
   "id": "358c3d47-81fc-4557-9fd3-29165ad03cd9",
   "metadata": {},
   "outputs": [],
   "source": []
  },
  {
   "cell_type": "code",
   "execution_count": null,
   "id": "17f7700e-247c-4693-8a5c-98ba5e61c685",
   "metadata": {},
   "outputs": [],
   "source": []
  },
  {
   "cell_type": "code",
   "execution_count": null,
   "id": "45a00bb7-6bcd-4233-a4af-abc04fb61365",
   "metadata": {},
   "outputs": [],
   "source": []
  }
 ],
 "metadata": {
  "kernelspec": {
   "display_name": "my_env",
   "language": "python",
   "name": "python3"
  },
  "language_info": {
   "codemirror_mode": {
    "name": "ipython",
    "version": 3
   },
   "file_extension": ".py",
   "mimetype": "text/x-python",
   "name": "python",
   "nbconvert_exporter": "python",
   "pygments_lexer": "ipython3",
   "version": "3.12.5"
  }
 },
 "nbformat": 4,
 "nbformat_minor": 5
}
